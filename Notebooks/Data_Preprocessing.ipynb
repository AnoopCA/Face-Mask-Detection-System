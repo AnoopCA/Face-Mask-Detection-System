{
 "cells": [
  {
   "cell_type": "code",
   "execution_count": 1,
   "metadata": {},
   "outputs": [
    {
     "name": "stdout",
     "output_type": "stream",
     "text": [
      "Folder: images\n",
      "Filename: maksssksksss0.png\n",
      "Size: 512x366, Depth: 3\n",
      "Objects:\n",
      "  Name: without_mask\n",
      "  Pose: Unspecified\n",
      "  Truncated: 0\n",
      "  Occluded: 0\n",
      "  Difficult: 0\n",
      "  Bounding Box: (79, 105) to (109, 142)\n",
      "  Name: with_mask\n",
      "  Pose: Unspecified\n",
      "  Truncated: 0\n",
      "  Occluded: 0\n",
      "  Difficult: 0\n",
      "  Bounding Box: (185, 100) to (226, 144)\n",
      "  Name: without_mask\n",
      "  Pose: Unspecified\n",
      "  Truncated: 0\n",
      "  Occluded: 0\n",
      "  Difficult: 0\n",
      "  Bounding Box: (325, 90) to (360, 141)\n"
     ]
    }
   ],
   "source": [
    "import xml.etree.ElementTree as ET\n",
    "\n",
    "# Parse the XML file\n",
    "tree = ET.parse(r'D:\\ML_Projects\\Face-Mask-Detection-System\\Data\\Kaggle_2\\annotations\\maksssksksss0.xml')\n",
    "root = tree.getroot()\n",
    "\n",
    "# Extract folder and filename\n",
    "folder = root.find('folder').text\n",
    "filename = root.find('filename').text\n",
    "\n",
    "# Extract image size details\n",
    "size = root.find('size')\n",
    "width = size.find('width').text\n",
    "height = size.find('height').text\n",
    "depth = size.find('depth').text\n",
    "\n",
    "# Extract object details\n",
    "objects = []\n",
    "for obj in root.findall('object'):\n",
    "    name = obj.find('name').text\n",
    "    pose = obj.find('pose').text\n",
    "    truncated = obj.find('truncated').text\n",
    "    occluded = obj.find('occluded').text\n",
    "    difficult = obj.find('difficult').text\n",
    "    \n",
    "    bndbox = obj.find('bndbox')\n",
    "    xmin = bndbox.find('xmin').text\n",
    "    ymin = bndbox.find('ymin').text\n",
    "    xmax = bndbox.find('xmax').text\n",
    "    ymax = bndbox.find('ymax').text\n",
    "    \n",
    "    objects.append({\n",
    "        'name': name,\n",
    "        'pose': pose,\n",
    "        'truncated': truncated,\n",
    "        'occluded': occluded,\n",
    "        'difficult': difficult,\n",
    "        'bndbox': {\n",
    "            'xmin': xmin,\n",
    "            'ymin': ymin,\n",
    "            'xmax': xmax,\n",
    "            'ymax': ymax\n",
    "        }\n",
    "    })\n",
    "\n",
    "# Print extracted data\n",
    "print(f\"Folder: {folder}\")\n",
    "print(f\"Filename: {filename}\")\n",
    "print(f\"Size: {width}x{height}, Depth: {depth}\")\n",
    "\n",
    "# Print objects\n",
    "print(\"Objects:\")\n",
    "for obj in objects:\n",
    "    print(f\"  Name: {obj['name']}\")\n",
    "    print(f\"  Pose: {obj['pose']}\")\n",
    "    print(f\"  Truncated: {obj['truncated']}\")\n",
    "    print(f\"  Occluded: {obj['occluded']}\")\n",
    "    print(f\"  Difficult: {obj['difficult']}\")\n",
    "    print(f\"  Bounding Box: ({obj['bndbox']['xmin']}, {obj['bndbox']['ymin']}) to ({obj['bndbox']['xmax']}, {obj['bndbox']['ymax']})\")"
   ]
  },
  {
   "cell_type": "code",
   "execution_count": null,
   "metadata": {},
   "outputs": [],
   "source": []
  }
 ],
 "metadata": {
  "kernelspec": {
   "display_name": "base",
   "language": "python",
   "name": "python3"
  },
  "language_info": {
   "codemirror_mode": {
    "name": "ipython",
    "version": 3
   },
   "file_extension": ".py",
   "mimetype": "text/x-python",
   "name": "python",
   "nbconvert_exporter": "python",
   "pygments_lexer": "ipython3",
   "version": "3.11.5"
  }
 },
 "nbformat": 4,
 "nbformat_minor": 2
}
