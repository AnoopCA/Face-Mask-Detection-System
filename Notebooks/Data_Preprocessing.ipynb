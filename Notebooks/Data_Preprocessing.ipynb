{
 "cells": [
  {
   "cell_type": "code",
   "execution_count": 1,
   "metadata": {},
   "outputs": [],
   "source": [
    "import os\n",
    "import xml.etree.ElementTree as ET\n",
    "import pandas as pd\n",
    "import matplotlib.pyplot as plt\n",
    "import seaborn as sns\n",
    "\n",
    "sns.set_style(\"whitegrid\")"
   ]
  },
  {
   "cell_type": "code",
   "execution_count": 2,
   "metadata": {},
   "outputs": [],
   "source": [
    "# Directory containing the XML files\n",
    "xml_dir = r'D:\\ML_Projects\\Face-Mask-Detection-System\\Data\\Kaggle_2\\annotations'\n",
    "\n",
    "# List to hold extracted data\n",
    "data = []\n",
    "\n",
    "# Iterate over all XML files in the directory\n",
    "for xml_file in os.listdir(xml_dir):\n",
    "    if xml_file.endswith('.xml'):\n",
    "        xml_path = os.path.join(xml_dir, xml_file)\n",
    "        \n",
    "        # Parse the XML file\n",
    "        tree = ET.parse(xml_path)\n",
    "        root = tree.getroot()\n",
    "        \n",
    "        # Extract folder and filename\n",
    "        #folder = root.find('folder').text\n",
    "        filename = root.find('filename').text\n",
    "        \n",
    "        # Extract image size details\n",
    "        size = root.find('size')\n",
    "        width = size.find('width').text\n",
    "        height = size.find('height').text\n",
    "        #depth = size.find('depth').text\n",
    "        \n",
    "        # Extract object details\n",
    "        for obj in root.findall('object'):\n",
    "            name = obj.find('name').text\n",
    "            #pose = obj.find('pose').text\n",
    "            #truncated = obj.find('truncated').text\n",
    "            #occluded = obj.find('occluded').text\n",
    "            #difficult = obj.find('difficult').text\n",
    "            \n",
    "            bndbox = obj.find('bndbox')\n",
    "            xmin = bndbox.find('xmin').text\n",
    "            ymin = bndbox.find('ymin').text\n",
    "            xmax = bndbox.find('xmax').text\n",
    "            ymax = bndbox.find('ymax').text\n",
    "            \n",
    "            # Append extracted data to the list\n",
    "            data.append({\n",
    "                #'folder': folder,\n",
    "                'filename': filename,\n",
    "                'width': width,\n",
    "                'height': height,\n",
    "                #'depth': depth,\n",
    "                'label': name,\n",
    "                #'pose': pose,\n",
    "                #'truncated': truncated,\n",
    "                #'occluded': occluded,\n",
    "                #'difficult': difficult,\n",
    "                'xmin': xmin,\n",
    "                'ymin': ymin,\n",
    "                'xmax': xmax,\n",
    "                'ymax': ymax\n",
    "            })\n",
    "\n",
    "# Convert list to pandas DataFrame\n",
    "annotations = pd.DataFrame(data)\n",
    "annotations.to_csv(xml_dir + '_1.csv',index=False)"
   ]
  },
  {
   "cell_type": "code",
   "execution_count": 24,
   "metadata": {},
   "outputs": [],
   "source": [
    "# Same code as above\n",
    "xml_dir = r'D:\\ML_Projects\\Face-Mask-Detection-System\\Data\\Kaggle_2\\annotations'\n",
    "data = []\n",
    "for xml_file in os.listdir(xml_dir):\n",
    "    if xml_file.endswith('.xml'):\n",
    "        xml_path = os.path.join(xml_dir, xml_file)\n",
    "        tree = ET.parse(xml_path)\n",
    "        root = tree.getroot()\n",
    "        filename = root.find('filename').text\n",
    "        size = root.find('size')\n",
    "        width = size.find('width').text\n",
    "        height = size.find('height').text\n",
    "        for obj in root.findall('object'):\n",
    "            name = obj.find('name').text\n",
    "            bndbox = obj.find('bndbox')\n",
    "            xmin = bndbox.find('xmin').text\n",
    "            ymin = bndbox.find('ymin').text\n",
    "            xmax = bndbox.find('xmax').text\n",
    "            ymax = bndbox.find('ymax').text\n",
    "            data.append({'filename': filename, 'width': width, 'height': height, 'label': name, \n",
    "                         'xmin': xmin, 'ymin': ymin, 'xmax': xmax, 'ymax': ymax})\n",
    "annotations = pd.DataFrame(data)\n",
    "annotations.to_csv(xml_dir + '_1.csv',index=False)"
   ]
  },
  {
   "cell_type": "code",
   "execution_count": 2,
   "metadata": {},
   "outputs": [],
   "source": [
    "annotations = pd.read_csv(r'D:\\ML_Projects\\Face-Mask-Detection-System\\Data\\Kaggle_2\\annotations.csv')"
   ]
  },
  {
   "cell_type": "code",
   "execution_count": 27,
   "metadata": {},
   "outputs": [
    {
     "data": {
      "text/html": [
       "<div>\n",
       "<style scoped>\n",
       "    .dataframe tbody tr th:only-of-type {\n",
       "        vertical-align: middle;\n",
       "    }\n",
       "\n",
       "    .dataframe tbody tr th {\n",
       "        vertical-align: top;\n",
       "    }\n",
       "\n",
       "    .dataframe thead th {\n",
       "        text-align: right;\n",
       "    }\n",
       "</style>\n",
       "<table border=\"1\" class=\"dataframe\">\n",
       "  <thead>\n",
       "    <tr style=\"text-align: right;\">\n",
       "      <th></th>\n",
       "      <th>filename</th>\n",
       "      <th>width</th>\n",
       "      <th>height</th>\n",
       "      <th>label</th>\n",
       "      <th>xmin</th>\n",
       "      <th>ymin</th>\n",
       "      <th>xmax</th>\n",
       "      <th>ymax</th>\n",
       "    </tr>\n",
       "  </thead>\n",
       "  <tbody>\n",
       "    <tr>\n",
       "      <th>0</th>\n",
       "      <td>maksssksksss0.png</td>\n",
       "      <td>512</td>\n",
       "      <td>366</td>\n",
       "      <td>without_mask</td>\n",
       "      <td>79</td>\n",
       "      <td>105</td>\n",
       "      <td>109</td>\n",
       "      <td>142</td>\n",
       "    </tr>\n",
       "    <tr>\n",
       "      <th>1</th>\n",
       "      <td>maksssksksss0.png</td>\n",
       "      <td>512</td>\n",
       "      <td>366</td>\n",
       "      <td>with_mask</td>\n",
       "      <td>185</td>\n",
       "      <td>100</td>\n",
       "      <td>226</td>\n",
       "      <td>144</td>\n",
       "    </tr>\n",
       "    <tr>\n",
       "      <th>2</th>\n",
       "      <td>maksssksksss0.png</td>\n",
       "      <td>512</td>\n",
       "      <td>366</td>\n",
       "      <td>without_mask</td>\n",
       "      <td>325</td>\n",
       "      <td>90</td>\n",
       "      <td>360</td>\n",
       "      <td>141</td>\n",
       "    </tr>\n",
       "    <tr>\n",
       "      <th>3</th>\n",
       "      <td>maksssksksss1.png</td>\n",
       "      <td>400</td>\n",
       "      <td>156</td>\n",
       "      <td>with_mask</td>\n",
       "      <td>321</td>\n",
       "      <td>34</td>\n",
       "      <td>354</td>\n",
       "      <td>69</td>\n",
       "    </tr>\n",
       "    <tr>\n",
       "      <th>4</th>\n",
       "      <td>maksssksksss1.png</td>\n",
       "      <td>400</td>\n",
       "      <td>156</td>\n",
       "      <td>with_mask</td>\n",
       "      <td>224</td>\n",
       "      <td>38</td>\n",
       "      <td>261</td>\n",
       "      <td>73</td>\n",
       "    </tr>\n",
       "  </tbody>\n",
       "</table>\n",
       "</div>"
      ],
      "text/plain": [
       "            filename  width  height         label  xmin  ymin  xmax  ymax\n",
       "0  maksssksksss0.png    512     366  without_mask    79   105   109   142\n",
       "1  maksssksksss0.png    512     366     with_mask   185   100   226   144\n",
       "2  maksssksksss0.png    512     366  without_mask   325    90   360   141\n",
       "3  maksssksksss1.png    400     156     with_mask   321    34   354    69\n",
       "4  maksssksksss1.png    400     156     with_mask   224    38   261    73"
      ]
     },
     "execution_count": 27,
     "metadata": {},
     "output_type": "execute_result"
    }
   ],
   "source": [
    "#Check the data extracted to dataframe\n",
    "annotations.head()"
   ]
  },
  {
   "cell_type": "code",
   "execution_count": 5,
   "metadata": {},
   "outputs": [
    {
     "data": {
      "text/html": [
       "<div>\n",
       "<style scoped>\n",
       "    .dataframe tbody tr th:only-of-type {\n",
       "        vertical-align: middle;\n",
       "    }\n",
       "\n",
       "    .dataframe tbody tr th {\n",
       "        vertical-align: top;\n",
       "    }\n",
       "\n",
       "    .dataframe thead th {\n",
       "        text-align: right;\n",
       "    }\n",
       "</style>\n",
       "<table border=\"1\" class=\"dataframe\">\n",
       "  <thead>\n",
       "    <tr style=\"text-align: right;\">\n",
       "      <th></th>\n",
       "      <th>filename</th>\n",
       "      <th>width</th>\n",
       "      <th>height</th>\n",
       "      <th>name</th>\n",
       "      <th>xmin</th>\n",
       "      <th>ymin</th>\n",
       "      <th>xmax</th>\n",
       "      <th>ymax</th>\n",
       "    </tr>\n",
       "  </thead>\n",
       "  <tbody>\n",
       "    <tr>\n",
       "      <th>47</th>\n",
       "      <td>maksssksksss11.png</td>\n",
       "      <td>400</td>\n",
       "      <td>267</td>\n",
       "      <td>mask_weared_incorrect</td>\n",
       "      <td>23</td>\n",
       "      <td>114</td>\n",
       "      <td>77</td>\n",
       "      <td>172</td>\n",
       "    </tr>\n",
       "    <tr>\n",
       "      <th>48</th>\n",
       "      <td>maksssksksss11.png</td>\n",
       "      <td>400</td>\n",
       "      <td>267</td>\n",
       "      <td>with_mask</td>\n",
       "      <td>147</td>\n",
       "      <td>157</td>\n",
       "      <td>200</td>\n",
       "      <td>211</td>\n",
       "    </tr>\n",
       "    <tr>\n",
       "      <th>49</th>\n",
       "      <td>maksssksksss11.png</td>\n",
       "      <td>400</td>\n",
       "      <td>267</td>\n",
       "      <td>with_mask</td>\n",
       "      <td>201</td>\n",
       "      <td>191</td>\n",
       "      <td>230</td>\n",
       "      <td>234</td>\n",
       "    </tr>\n",
       "    <tr>\n",
       "      <th>50</th>\n",
       "      <td>maksssksksss11.png</td>\n",
       "      <td>400</td>\n",
       "      <td>267</td>\n",
       "      <td>with_mask</td>\n",
       "      <td>243</td>\n",
       "      <td>192</td>\n",
       "      <td>293</td>\n",
       "      <td>247</td>\n",
       "    </tr>\n",
       "    <tr>\n",
       "      <th>51</th>\n",
       "      <td>maksssksksss11.png</td>\n",
       "      <td>400</td>\n",
       "      <td>267</td>\n",
       "      <td>with_mask</td>\n",
       "      <td>309</td>\n",
       "      <td>182</td>\n",
       "      <td>346</td>\n",
       "      <td>224</td>\n",
       "    </tr>\n",
       "    <tr>\n",
       "      <th>52</th>\n",
       "      <td>maksssksksss11.png</td>\n",
       "      <td>400</td>\n",
       "      <td>267</td>\n",
       "      <td>with_mask</td>\n",
       "      <td>249</td>\n",
       "      <td>108</td>\n",
       "      <td>276</td>\n",
       "      <td>140</td>\n",
       "    </tr>\n",
       "    <tr>\n",
       "      <th>53</th>\n",
       "      <td>maksssksksss11.png</td>\n",
       "      <td>400</td>\n",
       "      <td>267</td>\n",
       "      <td>with_mask</td>\n",
       "      <td>275</td>\n",
       "      <td>99</td>\n",
       "      <td>303</td>\n",
       "      <td>128</td>\n",
       "    </tr>\n",
       "    <tr>\n",
       "      <th>54</th>\n",
       "      <td>maksssksksss11.png</td>\n",
       "      <td>400</td>\n",
       "      <td>267</td>\n",
       "      <td>with_mask</td>\n",
       "      <td>195</td>\n",
       "      <td>90</td>\n",
       "      <td>214</td>\n",
       "      <td>113</td>\n",
       "    </tr>\n",
       "    <tr>\n",
       "      <th>55</th>\n",
       "      <td>maksssksksss11.png</td>\n",
       "      <td>400</td>\n",
       "      <td>267</td>\n",
       "      <td>with_mask</td>\n",
       "      <td>214</td>\n",
       "      <td>76</td>\n",
       "      <td>237</td>\n",
       "      <td>99</td>\n",
       "    </tr>\n",
       "    <tr>\n",
       "      <th>56</th>\n",
       "      <td>maksssksksss11.png</td>\n",
       "      <td>400</td>\n",
       "      <td>267</td>\n",
       "      <td>with_mask</td>\n",
       "      <td>232</td>\n",
       "      <td>50</td>\n",
       "      <td>247</td>\n",
       "      <td>67</td>\n",
       "    </tr>\n",
       "    <tr>\n",
       "      <th>57</th>\n",
       "      <td>maksssksksss11.png</td>\n",
       "      <td>400</td>\n",
       "      <td>267</td>\n",
       "      <td>with_mask</td>\n",
       "      <td>266</td>\n",
       "      <td>45</td>\n",
       "      <td>281</td>\n",
       "      <td>61</td>\n",
       "    </tr>\n",
       "    <tr>\n",
       "      <th>58</th>\n",
       "      <td>maksssksksss11.png</td>\n",
       "      <td>400</td>\n",
       "      <td>267</td>\n",
       "      <td>with_mask</td>\n",
       "      <td>207</td>\n",
       "      <td>47</td>\n",
       "      <td>222</td>\n",
       "      <td>63</td>\n",
       "    </tr>\n",
       "    <tr>\n",
       "      <th>59</th>\n",
       "      <td>maksssksksss11.png</td>\n",
       "      <td>400</td>\n",
       "      <td>267</td>\n",
       "      <td>with_mask</td>\n",
       "      <td>227</td>\n",
       "      <td>36</td>\n",
       "      <td>239</td>\n",
       "      <td>48</td>\n",
       "    </tr>\n",
       "    <tr>\n",
       "      <th>60</th>\n",
       "      <td>maksssksksss11.png</td>\n",
       "      <td>400</td>\n",
       "      <td>267</td>\n",
       "      <td>with_mask</td>\n",
       "      <td>253</td>\n",
       "      <td>33</td>\n",
       "      <td>267</td>\n",
       "      <td>45</td>\n",
       "    </tr>\n",
       "    <tr>\n",
       "      <th>61</th>\n",
       "      <td>maksssksksss11.png</td>\n",
       "      <td>400</td>\n",
       "      <td>267</td>\n",
       "      <td>with_mask</td>\n",
       "      <td>290</td>\n",
       "      <td>31</td>\n",
       "      <td>304</td>\n",
       "      <td>41</td>\n",
       "    </tr>\n",
       "    <tr>\n",
       "      <th>62</th>\n",
       "      <td>maksssksksss11.png</td>\n",
       "      <td>400</td>\n",
       "      <td>267</td>\n",
       "      <td>with_mask</td>\n",
       "      <td>362</td>\n",
       "      <td>32</td>\n",
       "      <td>372</td>\n",
       "      <td>40</td>\n",
       "    </tr>\n",
       "  </tbody>\n",
       "</table>\n",
       "</div>"
      ],
      "text/plain": [
       "              filename  width  height                   name  xmin  ymin  \\\n",
       "47  maksssksksss11.png    400     267  mask_weared_incorrect    23   114   \n",
       "48  maksssksksss11.png    400     267              with_mask   147   157   \n",
       "49  maksssksksss11.png    400     267              with_mask   201   191   \n",
       "50  maksssksksss11.png    400     267              with_mask   243   192   \n",
       "51  maksssksksss11.png    400     267              with_mask   309   182   \n",
       "52  maksssksksss11.png    400     267              with_mask   249   108   \n",
       "53  maksssksksss11.png    400     267              with_mask   275    99   \n",
       "54  maksssksksss11.png    400     267              with_mask   195    90   \n",
       "55  maksssksksss11.png    400     267              with_mask   214    76   \n",
       "56  maksssksksss11.png    400     267              with_mask   232    50   \n",
       "57  maksssksksss11.png    400     267              with_mask   266    45   \n",
       "58  maksssksksss11.png    400     267              with_mask   207    47   \n",
       "59  maksssksksss11.png    400     267              with_mask   227    36   \n",
       "60  maksssksksss11.png    400     267              with_mask   253    33   \n",
       "61  maksssksksss11.png    400     267              with_mask   290    31   \n",
       "62  maksssksksss11.png    400     267              with_mask   362    32   \n",
       "\n",
       "    xmax  ymax  \n",
       "47    77   172  \n",
       "48   200   211  \n",
       "49   230   234  \n",
       "50   293   247  \n",
       "51   346   224  \n",
       "52   276   140  \n",
       "53   303   128  \n",
       "54   214   113  \n",
       "55   237    99  \n",
       "56   247    67  \n",
       "57   281    61  \n",
       "58   222    63  \n",
       "59   239    48  \n",
       "60   267    45  \n",
       "61   304    41  \n",
       "62   372    40  "
      ]
     },
     "execution_count": 5,
     "metadata": {},
     "output_type": "execute_result"
    }
   ],
   "source": [
    "# Check the annotations for the image 'maksssksksss11.png'\n",
    "annotations[annotations['filename']=='maksssksksss11.png']"
   ]
  },
  {
   "cell_type": "code",
   "execution_count": 6,
   "metadata": {},
   "outputs": [
    {
     "data": {
      "text/plain": [
       "853"
      ]
     },
     "execution_count": 6,
     "metadata": {},
     "output_type": "execute_result"
    }
   ],
   "source": [
    "# Check number of unique file names\n",
    "annotations['filename'].nunique()"
   ]
  },
  {
   "cell_type": "code",
   "execution_count": 15,
   "metadata": {},
   "outputs": [
    {
     "data": {
      "text/plain": [
       "filename\n",
       "maksssksksss603.png    115\n",
       "maksssksksss518.png     83\n",
       "maksssksksss240.png     61\n",
       "maksssksksss260.png     53\n",
       "maksssksksss52.png      51\n",
       "maksssksksss539.png     41\n",
       "maksssksksss296.png     35\n",
       "maksssksksss89.png      29\n",
       "maksssksksss695.png     28\n",
       "maksssksksss110.png     26\n",
       "maksssksksss74.png      26\n",
       "maksssksksss354.png     25\n",
       "maksssksksss251.png     24\n",
       "maksssksksss564.png     23\n",
       "maksssksksss623.png     23\n",
       "Name: count, dtype: int64"
      ]
     },
     "execution_count": 15,
     "metadata": {},
     "output_type": "execute_result"
    }
   ],
   "source": [
    "# Check the images for most number of masks on the image\n",
    "annotations['filename'].value_counts().head(15)"
   ]
  },
  {
   "cell_type": "code",
   "execution_count": 17,
   "metadata": {},
   "outputs": [
    {
     "data": {
      "text/plain": [
       "xmin     79\n",
       "ymin    105\n",
       "xmax    109\n",
       "ymax    142\n",
       "Name: 0, dtype: int64"
      ]
     },
     "execution_count": 17,
     "metadata": {},
     "output_type": "execute_result"
    }
   ],
   "source": [
    "annotations[(annotations['filename']=='maksssksksss0.png') & (annotations['name']=='without_mask')][['xmin', 'ymin', 'xmax', 'ymax']].iloc[0]"
   ]
  },
  {
   "cell_type": "code",
   "execution_count": 34,
   "metadata": {},
   "outputs": [
    {
     "name": "stdout",
     "output_type": "stream",
     "text": [
      "717\n",
      "3232\n"
     ]
    }
   ],
   "source": [
    "print(len(annotations[annotations['label']=='without_mask']))\n",
    "print(len(annotations[annotations['label']=='with_mask']))"
   ]
  },
  {
   "cell_type": "code",
   "execution_count": 35,
   "metadata": {},
   "outputs": [
    {
     "name": "stdout",
     "output_type": "stream",
     "text": [
      "0.17608055009823181\n",
      "0.793713163064833\n"
     ]
    }
   ],
   "source": [
    "print(len(annotations[annotations['label']=='without_mask']) / len(annotations))\n",
    "print(len(annotations[annotations['label']=='with_mask']) / len(annotations))"
   ]
  },
  {
   "cell_type": "code",
   "execution_count": 43,
   "metadata": {},
   "outputs": [
    {
     "data": {
      "text/html": [
       "<div>\n",
       "<style scoped>\n",
       "    .dataframe tbody tr th:only-of-type {\n",
       "        vertical-align: middle;\n",
       "    }\n",
       "\n",
       "    .dataframe tbody tr th {\n",
       "        vertical-align: top;\n",
       "    }\n",
       "\n",
       "    .dataframe thead th {\n",
       "        text-align: right;\n",
       "    }\n",
       "</style>\n",
       "<table border=\"1\" class=\"dataframe\">\n",
       "  <thead>\n",
       "    <tr style=\"text-align: right;\">\n",
       "      <th></th>\n",
       "      <th>filename</th>\n",
       "      <th>width</th>\n",
       "      <th>height</th>\n",
       "      <th>label</th>\n",
       "      <th>xmin</th>\n",
       "      <th>ymin</th>\n",
       "      <th>xmax</th>\n",
       "      <th>ymax</th>\n",
       "    </tr>\n",
       "  </thead>\n",
       "  <tbody>\n",
       "    <tr>\n",
       "      <th>47</th>\n",
       "      <td>maksssksksss11.png</td>\n",
       "      <td>400</td>\n",
       "      <td>267</td>\n",
       "      <td>mask_weared_incorrect</td>\n",
       "      <td>23</td>\n",
       "      <td>114</td>\n",
       "      <td>77</td>\n",
       "      <td>172</td>\n",
       "    </tr>\n",
       "    <tr>\n",
       "      <th>101</th>\n",
       "      <td>maksssksksss112.png</td>\n",
       "      <td>267</td>\n",
       "      <td>400</td>\n",
       "      <td>mask_weared_incorrect</td>\n",
       "      <td>90</td>\n",
       "      <td>84</td>\n",
       "      <td>138</td>\n",
       "      <td>131</td>\n",
       "    </tr>\n",
       "    <tr>\n",
       "      <th>172</th>\n",
       "      <td>maksssksksss13.png</td>\n",
       "      <td>400</td>\n",
       "      <td>226</td>\n",
       "      <td>mask_weared_incorrect</td>\n",
       "      <td>162</td>\n",
       "      <td>51</td>\n",
       "      <td>194</td>\n",
       "      <td>89</td>\n",
       "    </tr>\n",
       "    <tr>\n",
       "      <th>176</th>\n",
       "      <td>maksssksksss130.png</td>\n",
       "      <td>332</td>\n",
       "      <td>400</td>\n",
       "      <td>mask_weared_incorrect</td>\n",
       "      <td>7</td>\n",
       "      <td>104</td>\n",
       "      <td>46</td>\n",
       "      <td>147</td>\n",
       "    </tr>\n",
       "    <tr>\n",
       "      <th>177</th>\n",
       "      <td>maksssksksss130.png</td>\n",
       "      <td>332</td>\n",
       "      <td>400</td>\n",
       "      <td>mask_weared_incorrect</td>\n",
       "      <td>162</td>\n",
       "      <td>58</td>\n",
       "      <td>208</td>\n",
       "      <td>112</td>\n",
       "    </tr>\n",
       "    <tr>\n",
       "      <th>...</th>\n",
       "      <td>...</td>\n",
       "      <td>...</td>\n",
       "      <td>...</td>\n",
       "      <td>...</td>\n",
       "      <td>...</td>\n",
       "      <td>...</td>\n",
       "      <td>...</td>\n",
       "      <td>...</td>\n",
       "    </tr>\n",
       "    <tr>\n",
       "      <th>3923</th>\n",
       "      <td>maksssksksss835.png</td>\n",
       "      <td>267</td>\n",
       "      <td>400</td>\n",
       "      <td>mask_weared_incorrect</td>\n",
       "      <td>57</td>\n",
       "      <td>86</td>\n",
       "      <td>162</td>\n",
       "      <td>184</td>\n",
       "    </tr>\n",
       "    <tr>\n",
       "      <th>3954</th>\n",
       "      <td>maksssksksss847.png</td>\n",
       "      <td>400</td>\n",
       "      <td>226</td>\n",
       "      <td>mask_weared_incorrect</td>\n",
       "      <td>56</td>\n",
       "      <td>160</td>\n",
       "      <td>78</td>\n",
       "      <td>187</td>\n",
       "    </tr>\n",
       "    <tr>\n",
       "      <th>4021</th>\n",
       "      <td>maksssksksss9.png</td>\n",
       "      <td>267</td>\n",
       "      <td>400</td>\n",
       "      <td>mask_weared_incorrect</td>\n",
       "      <td>148</td>\n",
       "      <td>75</td>\n",
       "      <td>201</td>\n",
       "      <td>133</td>\n",
       "    </tr>\n",
       "    <tr>\n",
       "      <th>4057</th>\n",
       "      <td>maksssksksss94.png</td>\n",
       "      <td>400</td>\n",
       "      <td>226</td>\n",
       "      <td>mask_weared_incorrect</td>\n",
       "      <td>227</td>\n",
       "      <td>91</td>\n",
       "      <td>255</td>\n",
       "      <td>122</td>\n",
       "    </tr>\n",
       "    <tr>\n",
       "      <th>4069</th>\n",
       "      <td>maksssksksss99.png</td>\n",
       "      <td>400</td>\n",
       "      <td>267</td>\n",
       "      <td>mask_weared_incorrect</td>\n",
       "      <td>181</td>\n",
       "      <td>54</td>\n",
       "      <td>273</td>\n",
       "      <td>162</td>\n",
       "    </tr>\n",
       "  </tbody>\n",
       "</table>\n",
       "<p>123 rows × 8 columns</p>\n",
       "</div>"
      ],
      "text/plain": [
       "                 filename  width  height                  label  xmin  ymin  \\\n",
       "47     maksssksksss11.png    400     267  mask_weared_incorrect    23   114   \n",
       "101   maksssksksss112.png    267     400  mask_weared_incorrect    90    84   \n",
       "172    maksssksksss13.png    400     226  mask_weared_incorrect   162    51   \n",
       "176   maksssksksss130.png    332     400  mask_weared_incorrect     7   104   \n",
       "177   maksssksksss130.png    332     400  mask_weared_incorrect   162    58   \n",
       "...                   ...    ...     ...                    ...   ...   ...   \n",
       "3923  maksssksksss835.png    267     400  mask_weared_incorrect    57    86   \n",
       "3954  maksssksksss847.png    400     226  mask_weared_incorrect    56   160   \n",
       "4021    maksssksksss9.png    267     400  mask_weared_incorrect   148    75   \n",
       "4057   maksssksksss94.png    400     226  mask_weared_incorrect   227    91   \n",
       "4069   maksssksksss99.png    400     267  mask_weared_incorrect   181    54   \n",
       "\n",
       "      xmax  ymax  \n",
       "47      77   172  \n",
       "101    138   131  \n",
       "172    194    89  \n",
       "176     46   147  \n",
       "177    208   112  \n",
       "...    ...   ...  \n",
       "3923   162   184  \n",
       "3954    78   187  \n",
       "4021   201   133  \n",
       "4057   255   122  \n",
       "4069   273   162  \n",
       "\n",
       "[123 rows x 8 columns]"
      ]
     },
     "execution_count": 43,
     "metadata": {},
     "output_type": "execute_result"
    }
   ],
   "source": [
    "annotations[(annotations['label']!='without_mask') & (annotations['label']!='with_mask')]"
   ]
  },
  {
   "cell_type": "code",
   "execution_count": 3,
   "metadata": {},
   "outputs": [
    {
     "data": {
      "image/png": "[encoded data removed]",
      "text/plain": [
       "<Figure size 640x480 with 1 Axes>"
      ]
     },
     "metadata": {},
     "output_type": "display_data"
    }
   ],
   "source": [
    "mask_count = annotations['filename'].value_counts()\n",
    "sns.kdeplot(mask_count)\n",
    "plt.show()"
   ]
  },
  {
   "cell_type": "code",
   "execution_count": 12,
   "metadata": {},
   "outputs": [
    {
     "data": {
      "image/png": "[encoded data removed]",
      "text/plain": [
       "<Figure size 640x480 with 1 Axes>"
      ]
     },
     "metadata": {},
     "output_type": "display_data"
    }
   ],
   "source": [
    "plt.hist(mask_count, bins=100)\n",
    "plt.show()"
   ]
  },
  {
   "cell_type": "code",
   "execution_count": 28,
   "metadata": {},
   "outputs": [
    {
     "data": {
      "text/plain": [
       "filename\n",
       "maksssksksss690.png    20\n",
       "maksssksksss656.png    20\n",
       "maksssksksss255.png    19\n",
       "maksssksksss139.png    19\n",
       "maksssksksss847.png    19\n",
       "maksssksksss359.png    18\n",
       "maksssksksss524.png    18\n",
       "maksssksksss674.png    18\n",
       "maksssksksss388.png    17\n",
       "maksssksksss558.png    17\n",
       "Name: count, dtype: int64"
      ]
     },
     "execution_count": 28,
     "metadata": {},
     "output_type": "execute_result"
    }
   ],
   "source": [
    "mask_count[21:].head(10)"
   ]
  },
  {
   "cell_type": "code",
   "execution_count": 27,
   "metadata": {},
   "outputs": [
    {
     "data": {
      "text/plain": [
       "0.023446658851113716"
      ]
     },
     "execution_count": 27,
     "metadata": {},
     "output_type": "execute_result"
    }
   ],
   "source": [
    "20/len(mask_count)"
   ]
  },
  {
   "cell_type": "code",
   "execution_count": 3,
   "metadata": {},
   "outputs": [
    {
     "name": "stderr",
     "output_type": "stream",
     "text": [
      "d:\\VENVs\\face_mask\\Lib\\site-packages\\tqdm\\auto.py:21: TqdmWarning: IProgress not found. Please update jupyter and ipywidgets. See https://ipywidgets.readthedocs.io/en/stable/user_install.html\n",
      "  from .autonotebook import tqdm as notebook_tqdm\n",
      "Downloading readme: 100%|██████████| 1.50k/1.50k [00:00<00:00, 4.59kB/s]\n",
      "Downloading data: 100%|██████████| 100/100 [00:07<00:00, 13.63files/s]\n",
      "Downloading data: 100%|██████████| 100/100 [00:07<00:00, 13.50files/s]\n",
      "Downloading data: 100%|██████████| 1022/1022 [00:56<00:00, 18.18files/s]\n",
      "Generating train split: 100%|██████████| 216/216 [00:00<00:00, 292.96 examples/s]\n",
      "Generating validation split: 100%|██████████| 232/232 [00:00<00:00, 374.90 examples/s]\n",
      "Generating test split: 100%|██████████| 2640/2640 [00:07<00:00, 356.79 examples/s]\n"
     ]
    }
   ],
   "source": [
    "from datasets import load_dataset\n",
    "\n",
    "ds = load_dataset(\"hlydecker/face-masks\")"
   ]
  },
  {
   "cell_type": "code",
   "execution_count": 8,
   "metadata": {},
   "outputs": [],
   "source": [
    "save_dir = r\"D:\\ML_Projects\\Face-Mask-Detection-System\\Data\\HF_1\""
   ]
  },
  {
   "cell_type": "code",
   "execution_count": 10,
   "metadata": {},
   "outputs": [
    {
     "ename": "MissingSchema",
     "evalue": "Invalid URL '0 0.49853515625 0.31130573248407645 0.0966796875 0.19904458598726116': No scheme supplied. Perhaps you meant https://0 0.49853515625 0.31130573248407645 0.0966796875 0.19904458598726116?",
     "output_type": "error",
     "traceback": [
      "\u001b[1;31m---------------------------------------------------------------------------\u001b[0m",
      "\u001b[1;31mMissingSchema\u001b[0m                             Traceback (most recent call last)",
      "Cell \u001b[1;32mIn[10], line 20\u001b[0m\n\u001b[0;32m     17\u001b[0m image_url \u001b[38;5;241m=\u001b[39m example[\u001b[38;5;124m'\u001b[39m\u001b[38;5;124mtext\u001b[39m\u001b[38;5;124m'\u001b[39m]\n\u001b[0;32m     19\u001b[0m \u001b[38;5;66;03m# Download the image\u001b[39;00m\n\u001b[1;32m---> 20\u001b[0m response \u001b[38;5;241m=\u001b[39m \u001b[43mrequests\u001b[49m\u001b[38;5;241;43m.\u001b[39;49m\u001b[43mget\u001b[49m\u001b[43m(\u001b[49m\u001b[43mimage_url\u001b[49m\u001b[43m)\u001b[49m\n\u001b[0;32m     21\u001b[0m img \u001b[38;5;241m=\u001b[39m Image\u001b[38;5;241m.\u001b[39mopen(BytesIO(response\u001b[38;5;241m.\u001b[39mcontent))\n\u001b[0;32m     23\u001b[0m \u001b[38;5;66;03m# Save the image to the specified directory\u001b[39;00m\n",
      "File \u001b[1;32md:\\VENVs\\face_mask\\Lib\\site-packages\\requests\\api.py:73\u001b[0m, in \u001b[0;36mget\u001b[1;34m(url, params, **kwargs)\u001b[0m\n\u001b[0;32m     62\u001b[0m \u001b[38;5;28;01mdef\u001b[39;00m \u001b[38;5;21mget\u001b[39m(url, params\u001b[38;5;241m=\u001b[39m\u001b[38;5;28;01mNone\u001b[39;00m, \u001b[38;5;241m*\u001b[39m\u001b[38;5;241m*\u001b[39mkwargs):\n\u001b[0;32m     63\u001b[0m \u001b[38;5;250m    \u001b[39m\u001b[38;5;124mr\u001b[39m\u001b[38;5;124;03m\"\"\"Sends a GET request.\u001b[39;00m\n\u001b[0;32m     64\u001b[0m \n\u001b[0;32m     65\u001b[0m \u001b[38;5;124;03m    :param url: URL for the new :class:`Request` object.\u001b[39;00m\n\u001b[1;32m   (...)\u001b[0m\n\u001b[0;32m     70\u001b[0m \u001b[38;5;124;03m    :rtype: requests.Response\u001b[39;00m\n\u001b[0;32m     71\u001b[0m \u001b[38;5;124;03m    \"\"\"\u001b[39;00m\n\u001b[1;32m---> 73\u001b[0m     \u001b[38;5;28;01mreturn\u001b[39;00m \u001b[43mrequest\u001b[49m\u001b[43m(\u001b[49m\u001b[38;5;124;43m\"\u001b[39;49m\u001b[38;5;124;43mget\u001b[39;49m\u001b[38;5;124;43m\"\u001b[39;49m\u001b[43m,\u001b[49m\u001b[43m \u001b[49m\u001b[43murl\u001b[49m\u001b[43m,\u001b[49m\u001b[43m \u001b[49m\u001b[43mparams\u001b[49m\u001b[38;5;241;43m=\u001b[39;49m\u001b[43mparams\u001b[49m\u001b[43m,\u001b[49m\u001b[43m \u001b[49m\u001b[38;5;241;43m*\u001b[39;49m\u001b[38;5;241;43m*\u001b[39;49m\u001b[43mkwargs\u001b[49m\u001b[43m)\u001b[49m\n",
      "File \u001b[1;32md:\\VENVs\\face_mask\\Lib\\site-packages\\requests\\api.py:59\u001b[0m, in \u001b[0;36mrequest\u001b[1;34m(method, url, **kwargs)\u001b[0m\n\u001b[0;32m     55\u001b[0m \u001b[38;5;66;03m# By using the 'with' statement we are sure the session is closed, thus we\u001b[39;00m\n\u001b[0;32m     56\u001b[0m \u001b[38;5;66;03m# avoid leaving sockets open which can trigger a ResourceWarning in some\u001b[39;00m\n\u001b[0;32m     57\u001b[0m \u001b[38;5;66;03m# cases, and look like a memory leak in others.\u001b[39;00m\n\u001b[0;32m     58\u001b[0m \u001b[38;5;28;01mwith\u001b[39;00m sessions\u001b[38;5;241m.\u001b[39mSession() \u001b[38;5;28;01mas\u001b[39;00m session:\n\u001b[1;32m---> 59\u001b[0m     \u001b[38;5;28;01mreturn\u001b[39;00m \u001b[43msession\u001b[49m\u001b[38;5;241;43m.\u001b[39;49m\u001b[43mrequest\u001b[49m\u001b[43m(\u001b[49m\u001b[43mmethod\u001b[49m\u001b[38;5;241;43m=\u001b[39;49m\u001b[43mmethod\u001b[49m\u001b[43m,\u001b[49m\u001b[43m \u001b[49m\u001b[43murl\u001b[49m\u001b[38;5;241;43m=\u001b[39;49m\u001b[43murl\u001b[49m\u001b[43m,\u001b[49m\u001b[43m \u001b[49m\u001b[38;5;241;43m*\u001b[39;49m\u001b[38;5;241;43m*\u001b[39;49m\u001b[43mkwargs\u001b[49m\u001b[43m)\u001b[49m\n",
      "File \u001b[1;32md:\\VENVs\\face_mask\\Lib\\site-packages\\requests\\sessions.py:575\u001b[0m, in \u001b[0;36mSession.request\u001b[1;34m(self, method, url, params, data, headers, cookies, files, auth, timeout, allow_redirects, proxies, hooks, stream, verify, cert, json)\u001b[0m\n\u001b[0;32m    562\u001b[0m \u001b[38;5;66;03m# Create the Request.\u001b[39;00m\n\u001b[0;32m    563\u001b[0m req \u001b[38;5;241m=\u001b[39m Request(\n\u001b[0;32m    564\u001b[0m     method\u001b[38;5;241m=\u001b[39mmethod\u001b[38;5;241m.\u001b[39mupper(),\n\u001b[0;32m    565\u001b[0m     url\u001b[38;5;241m=\u001b[39murl,\n\u001b[1;32m   (...)\u001b[0m\n\u001b[0;32m    573\u001b[0m     hooks\u001b[38;5;241m=\u001b[39mhooks,\n\u001b[0;32m    574\u001b[0m )\n\u001b[1;32m--> 575\u001b[0m prep \u001b[38;5;241m=\u001b[39m \u001b[38;5;28;43mself\u001b[39;49m\u001b[38;5;241;43m.\u001b[39;49m\u001b[43mprepare_request\u001b[49m\u001b[43m(\u001b[49m\u001b[43mreq\u001b[49m\u001b[43m)\u001b[49m\n\u001b[0;32m    577\u001b[0m proxies \u001b[38;5;241m=\u001b[39m proxies \u001b[38;5;129;01mor\u001b[39;00m {}\n\u001b[0;32m    579\u001b[0m settings \u001b[38;5;241m=\u001b[39m \u001b[38;5;28mself\u001b[39m\u001b[38;5;241m.\u001b[39mmerge_environment_settings(\n\u001b[0;32m    580\u001b[0m     prep\u001b[38;5;241m.\u001b[39murl, proxies, stream, verify, cert\n\u001b[0;32m    581\u001b[0m )\n",
      "File \u001b[1;32md:\\VENVs\\face_mask\\Lib\\site-packages\\requests\\sessions.py:484\u001b[0m, in \u001b[0;36mSession.prepare_request\u001b[1;34m(self, request)\u001b[0m\n\u001b[0;32m    481\u001b[0m     auth \u001b[38;5;241m=\u001b[39m get_netrc_auth(request\u001b[38;5;241m.\u001b[39murl)\n\u001b[0;32m    483\u001b[0m p \u001b[38;5;241m=\u001b[39m PreparedRequest()\n\u001b[1;32m--> 484\u001b[0m \u001b[43mp\u001b[49m\u001b[38;5;241;43m.\u001b[39;49m\u001b[43mprepare\u001b[49m\u001b[43m(\u001b[49m\n\u001b[0;32m    485\u001b[0m \u001b[43m    \u001b[49m\u001b[43mmethod\u001b[49m\u001b[38;5;241;43m=\u001b[39;49m\u001b[43mrequest\u001b[49m\u001b[38;5;241;43m.\u001b[39;49m\u001b[43mmethod\u001b[49m\u001b[38;5;241;43m.\u001b[39;49m\u001b[43mupper\u001b[49m\u001b[43m(\u001b[49m\u001b[43m)\u001b[49m\u001b[43m,\u001b[49m\n\u001b[0;32m    486\u001b[0m \u001b[43m    \u001b[49m\u001b[43murl\u001b[49m\u001b[38;5;241;43m=\u001b[39;49m\u001b[43mrequest\u001b[49m\u001b[38;5;241;43m.\u001b[39;49m\u001b[43murl\u001b[49m\u001b[43m,\u001b[49m\n\u001b[0;32m    487\u001b[0m \u001b[43m    \u001b[49m\u001b[43mfiles\u001b[49m\u001b[38;5;241;43m=\u001b[39;49m\u001b[43mrequest\u001b[49m\u001b[38;5;241;43m.\u001b[39;49m\u001b[43mfiles\u001b[49m\u001b[43m,\u001b[49m\n\u001b[0;32m    488\u001b[0m \u001b[43m    \u001b[49m\u001b[43mdata\u001b[49m\u001b[38;5;241;43m=\u001b[39;49m\u001b[43mrequest\u001b[49m\u001b[38;5;241;43m.\u001b[39;49m\u001b[43mdata\u001b[49m\u001b[43m,\u001b[49m\n\u001b[0;32m    489\u001b[0m \u001b[43m    \u001b[49m\u001b[43mjson\u001b[49m\u001b[38;5;241;43m=\u001b[39;49m\u001b[43mrequest\u001b[49m\u001b[38;5;241;43m.\u001b[39;49m\u001b[43mjson\u001b[49m\u001b[43m,\u001b[49m\n\u001b[0;32m    490\u001b[0m \u001b[43m    \u001b[49m\u001b[43mheaders\u001b[49m\u001b[38;5;241;43m=\u001b[39;49m\u001b[43mmerge_setting\u001b[49m\u001b[43m(\u001b[49m\n\u001b[0;32m    491\u001b[0m \u001b[43m        \u001b[49m\u001b[43mrequest\u001b[49m\u001b[38;5;241;43m.\u001b[39;49m\u001b[43mheaders\u001b[49m\u001b[43m,\u001b[49m\u001b[43m \u001b[49m\u001b[38;5;28;43mself\u001b[39;49m\u001b[38;5;241;43m.\u001b[39;49m\u001b[43mheaders\u001b[49m\u001b[43m,\u001b[49m\u001b[43m \u001b[49m\u001b[43mdict_class\u001b[49m\u001b[38;5;241;43m=\u001b[39;49m\u001b[43mCaseInsensitiveDict\u001b[49m\n\u001b[0;32m    492\u001b[0m \u001b[43m    \u001b[49m\u001b[43m)\u001b[49m\u001b[43m,\u001b[49m\n\u001b[0;32m    493\u001b[0m \u001b[43m    \u001b[49m\u001b[43mparams\u001b[49m\u001b[38;5;241;43m=\u001b[39;49m\u001b[43mmerge_setting\u001b[49m\u001b[43m(\u001b[49m\u001b[43mrequest\u001b[49m\u001b[38;5;241;43m.\u001b[39;49m\u001b[43mparams\u001b[49m\u001b[43m,\u001b[49m\u001b[43m \u001b[49m\u001b[38;5;28;43mself\u001b[39;49m\u001b[38;5;241;43m.\u001b[39;49m\u001b[43mparams\u001b[49m\u001b[43m)\u001b[49m\u001b[43m,\u001b[49m\n\u001b[0;32m    494\u001b[0m \u001b[43m    \u001b[49m\u001b[43mauth\u001b[49m\u001b[38;5;241;43m=\u001b[39;49m\u001b[43mmerge_setting\u001b[49m\u001b[43m(\u001b[49m\u001b[43mauth\u001b[49m\u001b[43m,\u001b[49m\u001b[43m \u001b[49m\u001b[38;5;28;43mself\u001b[39;49m\u001b[38;5;241;43m.\u001b[39;49m\u001b[43mauth\u001b[49m\u001b[43m)\u001b[49m\u001b[43m,\u001b[49m\n\u001b[0;32m    495\u001b[0m \u001b[43m    \u001b[49m\u001b[43mcookies\u001b[49m\u001b[38;5;241;43m=\u001b[39;49m\u001b[43mmerged_cookies\u001b[49m\u001b[43m,\u001b[49m\n\u001b[0;32m    496\u001b[0m \u001b[43m    \u001b[49m\u001b[43mhooks\u001b[49m\u001b[38;5;241;43m=\u001b[39;49m\u001b[43mmerge_hooks\u001b[49m\u001b[43m(\u001b[49m\u001b[43mrequest\u001b[49m\u001b[38;5;241;43m.\u001b[39;49m\u001b[43mhooks\u001b[49m\u001b[43m,\u001b[49m\u001b[43m \u001b[49m\u001b[38;5;28;43mself\u001b[39;49m\u001b[38;5;241;43m.\u001b[39;49m\u001b[43mhooks\u001b[49m\u001b[43m)\u001b[49m\u001b[43m,\u001b[49m\n\u001b[0;32m    497\u001b[0m \u001b[43m\u001b[49m\u001b[43m)\u001b[49m\n\u001b[0;32m    498\u001b[0m \u001b[38;5;28;01mreturn\u001b[39;00m p\n",
      "File \u001b[1;32md:\\VENVs\\face_mask\\Lib\\site-packages\\requests\\models.py:367\u001b[0m, in \u001b[0;36mPreparedRequest.prepare\u001b[1;34m(self, method, url, headers, files, data, params, auth, cookies, hooks, json)\u001b[0m\n\u001b[0;32m    364\u001b[0m \u001b[38;5;250m\u001b[39m\u001b[38;5;124;03m\"\"\"Prepares the entire request with the given parameters.\"\"\"\u001b[39;00m\n\u001b[0;32m    366\u001b[0m \u001b[38;5;28mself\u001b[39m\u001b[38;5;241m.\u001b[39mprepare_method(method)\n\u001b[1;32m--> 367\u001b[0m \u001b[38;5;28;43mself\u001b[39;49m\u001b[38;5;241;43m.\u001b[39;49m\u001b[43mprepare_url\u001b[49m\u001b[43m(\u001b[49m\u001b[43murl\u001b[49m\u001b[43m,\u001b[49m\u001b[43m \u001b[49m\u001b[43mparams\u001b[49m\u001b[43m)\u001b[49m\n\u001b[0;32m    368\u001b[0m \u001b[38;5;28mself\u001b[39m\u001b[38;5;241m.\u001b[39mprepare_headers(headers)\n\u001b[0;32m    369\u001b[0m \u001b[38;5;28mself\u001b[39m\u001b[38;5;241m.\u001b[39mprepare_cookies(cookies)\n",
      "File \u001b[1;32md:\\VENVs\\face_mask\\Lib\\site-packages\\requests\\models.py:438\u001b[0m, in \u001b[0;36mPreparedRequest.prepare_url\u001b[1;34m(self, url, params)\u001b[0m\n\u001b[0;32m    435\u001b[0m     \u001b[38;5;28;01mraise\u001b[39;00m InvalidURL(\u001b[38;5;241m*\u001b[39me\u001b[38;5;241m.\u001b[39margs)\n\u001b[0;32m    437\u001b[0m \u001b[38;5;28;01mif\u001b[39;00m \u001b[38;5;129;01mnot\u001b[39;00m scheme:\n\u001b[1;32m--> 438\u001b[0m     \u001b[38;5;28;01mraise\u001b[39;00m MissingSchema(\n\u001b[0;32m    439\u001b[0m         \u001b[38;5;124mf\u001b[39m\u001b[38;5;124m\"\u001b[39m\u001b[38;5;124mInvalid URL \u001b[39m\u001b[38;5;132;01m{\u001b[39;00murl\u001b[38;5;132;01m!r}\u001b[39;00m\u001b[38;5;124m: No scheme supplied. \u001b[39m\u001b[38;5;124m\"\u001b[39m\n\u001b[0;32m    440\u001b[0m         \u001b[38;5;124mf\u001b[39m\u001b[38;5;124m\"\u001b[39m\u001b[38;5;124mPerhaps you meant https://\u001b[39m\u001b[38;5;132;01m{\u001b[39;00murl\u001b[38;5;132;01m}\u001b[39;00m\u001b[38;5;124m?\u001b[39m\u001b[38;5;124m\"\u001b[39m\n\u001b[0;32m    441\u001b[0m     )\n\u001b[0;32m    443\u001b[0m \u001b[38;5;28;01mif\u001b[39;00m \u001b[38;5;129;01mnot\u001b[39;00m host:\n\u001b[0;32m    444\u001b[0m     \u001b[38;5;28;01mraise\u001b[39;00m InvalidURL(\u001b[38;5;124mf\u001b[39m\u001b[38;5;124m\"\u001b[39m\u001b[38;5;124mInvalid URL \u001b[39m\u001b[38;5;132;01m{\u001b[39;00murl\u001b[38;5;132;01m!r}\u001b[39;00m\u001b[38;5;124m: No host supplied\u001b[39m\u001b[38;5;124m\"\u001b[39m)\n",
      "\u001b[1;31mMissingSchema\u001b[0m: Invalid URL '0 0.49853515625 0.31130573248407645 0.0966796875 0.19904458598726116': No scheme supplied. Perhaps you meant https://0 0.49853515625 0.31130573248407645 0.0966796875 0.19904458598726116?"
     ]
    }
   ],
   "source": [
    "from datasets import load_dataset\n",
    "import requests\n",
    "from PIL import Image\n",
    "from io import BytesIO\n",
    "import os\n",
    "\n",
    "# Load the dataset\n",
    "ds = load_dataset(\"hlydecker/face-masks\")\n",
    "\n",
    "# Define a directory to save the images\n",
    "save_dir = \"downloaded_images\"\n",
    "os.makedirs(save_dir, exist_ok=True)\n",
    "\n",
    "# Iterate through the dataset and download each image\n",
    "for i, example in enumerate(ds['train']):\n",
    "    # Assuming the 'text' column contains image URLs\n",
    "    image_url = example['text']\n",
    "\n",
    "    # Download the image\n",
    "    response = requests.get(image_url)\n",
    "    img = Image.open(BytesIO(response.content))\n",
    "\n",
    "    # Save the image to the specified directory\n",
    "    img.save(os.path.join(save_dir, f\"image_{i}.jpg\"))\n",
    "\n",
    "    print(f\"Downloaded {i + 1}/{len(ds['train'])} images\")"
   ]
  },
  {
   "cell_type": "code",
   "execution_count": 11,
   "metadata": {},
   "outputs": [
    {
     "data": {
      "text/plain": [
       "DatasetDict({\n",
       "    train: Dataset({\n",
       "        features: ['text'],\n",
       "        num_rows: 216\n",
       "    })\n",
       "    validation: Dataset({\n",
       "        features: ['text'],\n",
       "        num_rows: 232\n",
       "    })\n",
       "    test: Dataset({\n",
       "        features: ['text'],\n",
       "        num_rows: 2640\n",
       "    })\n",
       "})"
      ]
     },
     "execution_count": 11,
     "metadata": {},
     "output_type": "execute_result"
    }
   ],
   "source": [
    "ds"
   ]
  },
  {
   "cell_type": "code",
   "execution_count": null,
   "metadata": {},
   "outputs": [],
   "source": [
    "bboxes = annotations[annotations['filename']==img_names.iloc[index]].iloc[:,1:]"
   ]
  },
  {
   "cell_type": "code",
   "execution_count": 3,
   "metadata": {},
   "outputs": [],
   "source": [
    "import numpy as np\n",
    "import pandas as pd\n",
    "import sys\n",
    "import os\n",
    "\n",
    "sys.path.append(r\"D:\\ML_Projects\\Face-Mask-Detection-System\\YOLOv3\")\n",
    "\n",
    "import config\n",
    "\n",
    "annotations = pd.read_csv(config.DATASET + config.TRAIN_FILE)\n",
    "img_names = pd.read_csv(config.TRAIN_IMG_NAMES)"
   ]
  },
  {
   "cell_type": "code",
   "execution_count": 4,
   "metadata": {},
   "outputs": [],
   "source": [
    "txt_path = r\"D:\\ML_Projects\\Face-Mask-Detection-System\\Data\\Kaggle_2\\labels\"\n",
    "for (idx, i) in img_names.iterrows():\n",
    "    with open(os.path.join(txt_path, i[0].split(\".\")[0] + \".txt\"), \"w\") as f:\n",
    "        values = annotations[annotations['filename']==i[0]].iloc[:,1:].values\n",
    "        for value in values:\n",
    "            f.write(\" \".join(map(str, value)) + \"\\n\")"
   ]
  },
  {
   "cell_type": "code",
   "execution_count": null,
   "metadata": {},
   "outputs": [],
   "source": []
  }
 ],
 "metadata": {
  "kernelspec": {
   "display_name": "base",
   "language": "python",
   "name": "python3"
  },
  "language_info": {
   "codemirror_mode": {
    "name": "ipython",
    "version": 3
   },
   "file_extension": ".py",
   "mimetype": "text/x-python",
   "name": "python",
   "nbconvert_exporter": "python",
   "pygments_lexer": "ipython3",
   "version": "3.11.5"
  }
 },
 "nbformat": 4,
 "nbformat_minor": 2
}
